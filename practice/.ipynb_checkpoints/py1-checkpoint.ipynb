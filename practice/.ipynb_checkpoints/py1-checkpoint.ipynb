{
 "cells": [
  {
   "cell_type": "code",
   "execution_count": 1,
   "id": "ef3ba9b7",
   "metadata": {},
   "outputs": [
    {
     "data": {
      "text/plain": [
       "8"
      ]
     },
     "execution_count": 1,
     "metadata": {},
     "output_type": "execute_result"
    }
   ],
   "source": [
    "3+5\n"
   ]
  },
  {
   "cell_type": "code",
   "execution_count": 3,
   "id": "25a55986",
   "metadata": {},
   "outputs": [
    {
     "data": {
      "text/plain": [
       "'ello'"
      ]
     },
     "execution_count": 3,
     "metadata": {},
     "output_type": "execute_result"
    }
   ],
   "source": [
    "greet=\"Hello World\"\n",
    "greet[1:5]"
   ]
  },
  {
   "cell_type": "code",
   "execution_count": 7,
   "id": "edf50a53",
   "metadata": {},
   "outputs": [
    {
     "data": {
      "text/plain": [
       "'H d'"
      ]
     },
     "execution_count": 7,
     "metadata": {},
     "output_type": "execute_result"
    }
   ],
   "source": [
    "greet[0::5]"
   ]
  },
  {
   "cell_type": "code",
   "execution_count": 9,
   "id": "a6be030d",
   "metadata": {},
   "outputs": [],
   "source": [
    "robot=\"technologically\"\n",
    "consoles=\"ps4 is cooler than xbox!\"\n",
    "code=\"ply2t3h4o5n6i7c8\"\n",
    "words=\"I saw a cat jump over the moon and into the clouds\"\n",
    "new_words=\"I saw a cow fly over the gates and into the forest\"\n",
    "paid =\"I received a total of $5000\""
   ]
  },
  {
   "cell_type": "code",
   "execution_count": 10,
   "id": "92ceed03",
   "metadata": {},
   "outputs": [
    {
     "data": {
      "text/plain": [
       "15"
      ]
     },
     "execution_count": 10,
     "metadata": {},
     "output_type": "execute_result"
    }
   ],
   "source": [
    "len(robot)"
   ]
  },
  {
   "cell_type": "code",
   "execution_count": 11,
   "id": "2c7b36fa",
   "metadata": {},
   "outputs": [
    {
     "data": {
      "text/plain": [
       "'technologically'"
      ]
     },
     "execution_count": 11,
     "metadata": {},
     "output_type": "execute_result"
    }
   ],
   "source": [
    "robot\n",
    "\n",
    "\n"
   ]
  },
  {
   "cell_type": "code",
   "execution_count": 13,
   "id": "b9f5ac71",
   "metadata": {},
   "outputs": [
    {
     "data": {
      "text/plain": [
       "'techno'"
      ]
     },
     "execution_count": 13,
     "metadata": {},
     "output_type": "execute_result"
    }
   ],
   "source": [
    "robot[0:6]"
   ]
  },
  {
   "cell_type": "code",
   "execution_count": 14,
   "id": "ecd2cdff",
   "metadata": {},
   "outputs": [
    {
     "data": {
      "text/plain": [
       "'ply2t3h4o5n6i7c8'"
      ]
     },
     "execution_count": 14,
     "metadata": {},
     "output_type": "execute_result"
    }
   ],
   "source": [
    "code\n"
   ]
  },
  {
   "cell_type": "code",
   "execution_count": 15,
   "id": "b771f8d8",
   "metadata": {},
   "outputs": [
    {
     "data": {
      "text/plain": [
       "'PYTHONIC'"
      ]
     },
     "execution_count": 15,
     "metadata": {},
     "output_type": "execute_result"
    }
   ],
   "source": [
    "code[0::2].upper()"
   ]
  },
  {
   "cell_type": "code",
   "execution_count": 18,
   "id": "392e7ca6",
   "metadata": {},
   "outputs": [
    {
     "data": {
      "text/plain": [
       "'8642'"
      ]
     },
     "execution_count": 18,
     "metadata": {},
     "output_type": "execute_result"
    }
   ],
   "source": [
    "code[1::2][::-2]"
   ]
  },
  {
   "cell_type": "code",
   "execution_count": 22,
   "id": "a1814b94",
   "metadata": {},
   "outputs": [
    {
     "data": {
      "text/plain": [
       "['I',\n",
       " 'saw',\n",
       " 'a',\n",
       " 'cat',\n",
       " 'jump',\n",
       " 'over',\n",
       " 'the',\n",
       " 'moon',\n",
       " 'and',\n",
       " 'into',\n",
       " 'the',\n",
       " 'clouds']"
      ]
     },
     "execution_count": 22,
     "metadata": {},
     "output_type": "execute_result"
    }
   ],
   "source": [
    "var=words.split()\n",
    "var\n",
    "words\n"
   ]
  },
  {
   "cell_type": "code",
   "execution_count": 1,
   "id": "2ae08382",
   "metadata": {},
   "outputs": [
    {
     "data": {
      "text/plain": [
       "{'robot': '$40.0', 'car': '$25', 'ironman': '$12'}"
      ]
     },
     "execution_count": 1,
     "metadata": {},
     "output_type": "execute_result"
    }
   ],
   "source": [
    "toys={\"robot\":\"$40.0\",\"car\":\"$25\",\"ironman\":\"$12\"}\n",
    "toys\n"
   ]
  },
  {
   "cell_type": "code",
   "execution_count": 17,
   "id": "20f171b4",
   "metadata": {},
   "outputs": [
    {
     "data": {
      "text/plain": [
       "77"
      ]
     },
     "execution_count": 17,
     "metadata": {},
     "output_type": "execute_result"
    }
   ],
   "source": [
    "int(eval(list(toys.values())[0][1:])+eval(list(toys.values())[1][1:])+eval(list(toys.values())[2][1:]))\n"
   ]
  },
  {
   "cell_type": "code",
   "execution_count": 24,
   "id": "1855bd95",
   "metadata": {},
   "outputs": [
    {
     "data": {
      "text/plain": [
       "[True, True, False, True, False]"
      ]
     },
     "execution_count": 24,
     "metadata": {},
     "output_type": "execute_result"
    }
   ],
   "source": [
    "questions=[10 !=4,50== 50,90 ==10,\"c\" in (\"a\",\"b\",\"c\"), 100 !=100]\n",
    "questions\n"
   ]
  },
  {
   "cell_type": "code",
   "execution_count": 25,
   "id": "2dc8abac",
   "metadata": {},
   "outputs": [
    {
     "data": {
      "text/plain": [
       "{'k1': 'blade runner 2049', 'k2': 'matrix', 'k3': 'terminator'}"
      ]
     },
     "execution_count": 25,
     "metadata": {},
     "output_type": "execute_result"
    }
   ],
   "source": [
    "filims={\"k1\":\"blade runner 2049\",\"k2\":\"matrix\",\"k3\":\"terminator\"}\n",
    "filims"
   ]
  },
  {
   "cell_type": "code",
   "execution_count": 26,
   "id": "2cb9ddc5",
   "metadata": {},
   "outputs": [
    {
     "data": {
      "text/plain": [
       "5"
      ]
     },
     "execution_count": 26,
     "metadata": {},
     "output_type": "execute_result"
    }
   ],
   "source": [
    "2+3\n"
   ]
  },
  {
   "cell_type": "code",
   "execution_count": 32,
   "id": "7bd5224c",
   "metadata": {},
   "outputs": [
    {
     "data": {
      "text/plain": [
       "True"
      ]
     },
     "execution_count": 32,
     "metadata": {},
     "output_type": "execute_result"
    }
   ],
   "source": [
    "len(filims[\"k1\"])>len(filims[\"k2\"])<len(filims[\"k3\"])"
   ]
  },
  {
   "cell_type": "code",
   "execution_count": 34,
   "id": "2947b067",
   "metadata": {},
   "outputs": [
    {
     "data": {
      "text/plain": [
       "dict"
      ]
     },
     "execution_count": 34,
     "metadata": {},
     "output_type": "execute_result"
    }
   ],
   "source": [
    "type(filims)"
   ]
  },
  {
   "cell_type": "code",
   "execution_count": 38,
   "id": "18eb84ed",
   "metadata": {},
   "outputs": [
    {
     "data": {
      "text/plain": [
       "{0: 'embryo', 1: 'fetus', 2: 'baby', 3: 'infant', 4: 'teen'}"
      ]
     },
     "execution_count": 38,
     "metadata": {},
     "output_type": "execute_result"
    }
   ],
   "source": [
    "life_stage={0:\"embryo\",1:\"fetus\",2:\"baby\",3:\"infant\",4:\"teen\"}\n",
    "life_stage"
   ]
  },
  {
   "cell_type": "code",
   "execution_count": 40,
   "id": "b4c398e4",
   "metadata": {},
   "outputs": [],
   "source": [
    "midlife={5:\"adult\",6:\"big kid!\"}"
   ]
  },
  {
   "cell_type": "code",
   "execution_count": 41,
   "id": "d18ef8b7",
   "metadata": {},
   "outputs": [
    {
     "data": {
      "text/plain": [
       "{5: 'adult', 6: 'big kid!'}"
      ]
     },
     "execution_count": 41,
     "metadata": {},
     "output_type": "execute_result"
    }
   ],
   "source": [
    "midlife"
   ]
  },
  {
   "cell_type": "code",
   "execution_count": 44,
   "id": "9b0fd8e3",
   "metadata": {},
   "outputs": [],
   "source": [
    "life_stage.update(midlife)"
   ]
  },
  {
   "cell_type": "markdown",
   "id": "9ab290e2",
   "metadata": {},
   "source": [
    "midlife"
   ]
  },
  {
   "cell_type": "code",
   "execution_count": 45,
   "id": "61e511ad",
   "metadata": {},
   "outputs": [
    {
     "data": {
      "text/plain": [
       "{5: 'adult', 6: 'big kid!'}"
      ]
     },
     "execution_count": 45,
     "metadata": {},
     "output_type": "execute_result"
    }
   ],
   "source": [
    "midlife"
   ]
  },
  {
   "cell_type": "code",
   "execution_count": 46,
   "id": "3e2afec6",
   "metadata": {},
   "outputs": [
    {
     "data": {
      "text/plain": [
       "{0: 'embryo',\n",
       " 1: 'fetus',\n",
       " 2: 'baby',\n",
       " 3: 'infant',\n",
       " 4: 'teen',\n",
       " 5: 'adult',\n",
       " 6: 'big kid!'}"
      ]
     },
     "execution_count": 46,
     "metadata": {},
     "output_type": "execute_result"
    }
   ],
   "source": [
    "life_stage"
   ]
  },
  {
   "cell_type": "code",
   "execution_count": 47,
   "id": "5b3204cf",
   "metadata": {},
   "outputs": [
    {
     "data": {
      "text/plain": [
       "[(1, 2, 3), {'k1': [30, 1, 300, 2, 77], 'k2': [10, 20, 30]}, ['a', '500', 'c']]"
      ]
     },
     "execution_count": 47,
     "metadata": {},
     "output_type": "execute_result"
    }
   ],
   "source": [
    "nest1=[(1,2,3),{\"k1\":[30,1,300,2,77],\"k2\":[10,20,30]},[\"a\",\"500\",\"c\"]]\n",
    "nest1"
   ]
  },
  {
   "cell_type": "code",
   "execution_count": 71,
   "id": "ef7001dc",
   "metadata": {},
   "outputs": [
    {
     "data": {
      "text/plain": [
       "833.0"
      ]
     },
     "execution_count": 71,
     "metadata": {},
     "output_type": "execute_result"
    }
   ],
   "source": [
    "float(nest1[0][2]+sorted(nest1[1][\"k1\"])[-1]+nest1[1][\"k2\"][2]+eval(nest1[2][1]))"
   ]
  },
  {
   "cell_type": "code",
   "execution_count": 78,
   "id": "859b3c56",
   "metadata": {},
   "outputs": [],
   "source": [
    "prices=[\"a\",\"b\",\"9\",\"c\",\"d\",\"Four\",\"e\",\"f\",\"2.5\"]"
   ]
  },
  {
   "cell_type": "code",
   "execution_count": 79,
   "id": "ddbfe763",
   "metadata": {},
   "outputs": [
    {
     "data": {
      "text/plain": [
       "['9', 'Four', '2.5']"
      ]
     },
     "execution_count": 79,
     "metadata": {},
     "output_type": "execute_result"
    }
   ],
   "source": [
    "prices[2::3]"
   ]
  },
  {
   "cell_type": "code",
   "execution_count": 74,
   "id": "5fbb9989",
   "metadata": {},
   "outputs": [],
   "source": [
    "sentence=\"\"\"The bill for the {}#!/,?? {}#!/?? and drink came to {}??\"\"\""
   ]
  },
  {
   "cell_type": "code",
   "execution_count": null,
   "id": "3a12b3e3",
   "metadata": {},
   "outputs": [],
   "source": []
  }
 ],
 "metadata": {
  "kernelspec": {
   "display_name": "Python 3 (ipykernel)",
   "language": "python",
   "name": "python3"
  },
  "language_info": {
   "codemirror_mode": {
    "name": "ipython",
    "version": 3
   },
   "file_extension": ".py",
   "mimetype": "text/x-python",
   "name": "python",
   "nbconvert_exporter": "python",
   "pygments_lexer": "ipython3",
   "version": "3.11.3"
  }
 },
 "nbformat": 4,
 "nbformat_minor": 5
}
